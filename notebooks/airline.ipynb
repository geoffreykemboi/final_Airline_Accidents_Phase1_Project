{
 "cells": [
  {
   "cell_type": "markdown",
   "id": "decfe2b3",
   "metadata": {},
   "source": [
    "# Phase 1 Project \n",
    "\n",
    "### Project Overview\n",
    "For this project, I am required to use data cleaning, imputation, analysis, and visualization to generate insights for a business stakeholder.\n"
   ]
  },
  {
   "cell_type": "markdown",
   "id": "1a8d1361",
   "metadata": {},
   "source": [
    "# **1. Business Understanding**\n",
    "\n",
    "## **Business Context**\n",
    "The company is establishing a new **aviation division** focused on expanding operations through the purchase and management of aircraft. As part of this initiative, leadership seeks to ensure that investment and operational decisions are guided by **evidence-based safety insights** derived from historical data on aircraft accidents and fatalities.\n",
    "\n",
    "## **Business Problem**\n",
    "Aircraft procurement and operational planning carry significant financial and safety risks. Without data-driven insights, decisions about which aircraft types, models, or flight purposes to invest in may expose the company to **avoidable operational hazards**, higher insurance costs, or reputational damage resulting from safety incidents.\n",
    "\n",
    "The primary business challenge is to **identify which aircraft types, makes, and operational categories have historically demonstrated lower accident and fatality risks**, so that purchasing and operational policies can be optimized for safety, cost efficiency, and long-term sustainability.\n",
    "\n",
    "## **Business Objectives**\n",
    "The main objectives of this analysis are to:\n",
    "1. Assess historical aviation accident patterns across aircraft makes, models, and purposes of flight.  \n",
    "2. Identify high-risk versus low-risk aircraft types and flight purposes based on recorded fatalities and incident severity.  \n",
    "3. Provide actionable insights that inform aircraft procurement, operational planning, and safety management policies.  \n",
    "4. Develop a foundation for future **risk-based decision-making**, where accident rates are normalized against exposure data (e.g., flight hours or fleet size).\n",
    "\n",
    "## **Key Business Questions**\n",
    "- Which aircraft makes and models have historically recorded the **fewest fatal incidents**?  \n",
    "- How does **purpose of flight** (e.g., personal, instructional, commercial, aerial application) influence accident severity?  \n",
    "- What are the **historical trends** in accident frequency and fatality rates, and what do they imply about safety improvements or degradation over time?  \n",
    "- Based on this analysis, what **purchase and operational priorities** should guide the aviation division’s strategy?"
   ]
  },
  {
   "cell_type": "markdown",
   "id": "34c5466a",
   "metadata": {},
   "source": [
    "# **2. Data Understanding**\n",
    "\n",
    "## **Dataset Overview**\n",
    "The dataset, titled **\"Airline Accidents\"**, contains historical records of aircraft accidents, including details such as the date, location, operator, aircraft type, purpose of flight, total fatalities, and onboard fatalities. The data spans multiple decades and provides valuable insights into aviation safety patterns across different aircraft and flight types.\n",
    "\n",
    "This dataset will be used to explore trends in aviation accidents and identify factors associated with higher or lower accident severity, with the goal of improving safety-focused business decisions.\n",
    "\n",
    "## **Data Source**\n",
    "The dataset was obtained from a publicly available repository containing **historical aircraft accident records**.  \n",
    "Each record represents a single aviation incident and includes both numerical and categorical data points relevant to understanding the event.\n",
    "\n",
    "The data includes the following key fields:\n",
    "- **Date** – The date the accident occurred.  \n",
    "- **Location** – The geographical location of the accident.  \n",
    "- **Operator** – The airline or operator of the aircraft involved.  \n",
    "- **Aircraft Type** – The make or model of the aircraft.  \n",
    "- **Purpose of Flight** – The intended operation (e.g., personal, instructional, commercial, or military).  \n",
    "- **Aboard** – Total number of people aboard the aircraft.  \n",
    "- **Fatalities** – Number of fatalities from the accident.  \n",
    "- **Ground** – Number of fatalities on the ground (if any).  \n",
    "- **Summary** – Brief narrative description of the incident."
   ]
  },
  {
   "cell_type": "markdown",
   "id": "6d12efdb",
   "metadata": {},
   "source": [
    "### 2.1 Import Libraries"
   ]
  },
  {
   "cell_type": "code",
   "execution_count": 1,
   "id": "d033869f",
   "metadata": {},
   "outputs": [],
   "source": [
    "import pandas as pd\n",
    "import numpy as np\n",
    "import matplotlib.pyplot as plt\n",
    "import seaborn as sns\n",
    "import warnings\n",
    "warnings.filterwarnings('ignore')"
   ]
  }
 ],
 "metadata": {
  "kernelspec": {
   "display_name": "base",
   "language": "python",
   "name": "python3"
  },
  "language_info": {
   "codemirror_mode": {
    "name": "ipython",
    "version": 3
   },
   "file_extension": ".py",
   "mimetype": "text/x-python",
   "name": "python",
   "nbconvert_exporter": "python",
   "pygments_lexer": "ipython3",
   "version": "3.11.7"
  }
 },
 "nbformat": 4,
 "nbformat_minor": 5
}
