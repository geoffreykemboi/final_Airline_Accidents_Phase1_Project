{
 "cells": [
  {
   "cell_type": "markdown",
   "id": "decfe2b3",
   "metadata": {},
   "source": [
    "# Phase 1 Project \n",
    "\n",
    "### Project Overview\n",
    "For this project, I am required to use data cleaning, imputation, analysis, and visualization to generate insights for a business stakeholder.\n"
   ]
  },
  {
   "cell_type": "markdown",
   "id": "1a8d1361",
   "metadata": {},
   "source": [
    "# **1. Business Understanding**\n",
    "\n",
    "## **Business Context**\n",
    "The company is establishing a new **aviation division** focused on expanding operations through the purchase and management of aircraft. As part of this initiative, leadership seeks to ensure that investment and operational decisions are guided by **evidence-based safety insights** derived from historical data on aircraft accidents and fatalities.\n",
    "\n",
    "## **Business Problem**\n",
    "Aircraft procurement and operational planning carry significant financial and safety risks. Without data-driven insights, decisions about which aircraft types, models, or flight purposes to invest in may expose the company to **avoidable operational hazards**, higher insurance costs, or reputational damage resulting from safety incidents.\n",
    "\n",
    "The primary business challenge is to **identify which aircraft types, makes, and operational categories have historically demonstrated lower accident and fatality risks**, so that purchasing and operational policies can be optimized for safety, cost efficiency, and long-term sustainability.\n",
    "\n",
    "## **Business Objectives**\n",
    "The main objectives of this analysis are to:\n",
    "1. Assess historical aviation accident patterns across aircraft makes, models, and purposes of flight.  \n",
    "2. Identify high-risk versus low-risk aircraft types and flight purposes based on recorded fatalities and incident severity.  \n",
    "3. Provide actionable insights that inform aircraft procurement, operational planning, and safety management policies.  \n",
    "4. Develop a foundation for future **risk-based decision-making**, where accident rates are normalized against exposure data (e.g., flight hours or fleet size).\n",
    "\n",
    "## **Key Business Questions**\n",
    "- Which aircraft makes and models have historically recorded the **fewest fatal incidents**?  \n",
    "- How does **purpose of flight** (e.g., personal, instructional, commercial, aerial application) influence accident severity?  \n",
    "- What are the **historical trends** in accident frequency and fatality rates, and what do they imply about safety improvements or degradation over time?  \n",
    "- Based on this analysis, what **purchase and operational priorities** should guide the aviation division’s strategy?"
   ]
  }
 ],
 "metadata": {
  "language_info": {
   "name": "python"
  }
 },
 "nbformat": 4,
 "nbformat_minor": 5
}
